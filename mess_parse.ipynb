{
 "cells": [
  {
   "cell_type": "code",
   "execution_count": 100,
   "metadata": {},
   "outputs": [],
   "source": [
    "import pandas as pd\n",
    "\n",
    "# file path of excel containing messmenu\n",
    "file_path = \"/home/goodarth/Desktop/task/sutt backend sem 2/Mess Menu Sample.xlsx\"  \n",
    "\n",
    "# declares data frame df using read_excel function from pandas with attribute sheet_name pointing to sheet1 where data is stored\n",
    "# this essentially stores the data from the excel in a 2d representation of rowws and columns with the first row being the header\n",
    "# the way data is stored can be observed by simply printing df\n",
    "df = pd.read_excel(file_path, sheet_name=\"Sheet1\")\n"
   ]
  },
  {
   "cell_type": "code",
   "execution_count": 101,
   "metadata": {},
   "outputs": [],
   "source": [
    "\n",
    "# declares a dictionary menu_json to store content for the required json file to be created\n",
    "menu_json = {} \n",
    "\n",
    "# since we want to create a json file which contains a dictionary with each date(used as key in dictionary) we will iterate over the dates(every column essentially)\n",
    "for col in df.columns:\n",
    "    # we will create a new data frame for each date of the corresponding column in the loop\n",
    "    date = df[col].iloc[0]\n",
    "\n",
    "    # declares the format of value stores with every key(date) in the dictionary, here we use three lists for breakfast lunch and dinner to store data\n",
    "    menu_json[date] = {\n",
    "        \"BREAKFAST\": [],\n",
    "        \"LUNCH\": [],\n",
    "        \"DINNER\": []\n",
    "    }\n",
    "\n",
    "    # for every column, creates lists separately for breakfast lunch and dinner \n",
    "    # df[col].iloc[2:11] refers to the vales ranging from 2nd to 10th row (both inclusive) for that corresposding column\n",
    "    # .replace() function replaces the asterix marked fields with NONE\n",
    "    # .dropna() funtion basically drops all the empty fields (the ones empty by default and also one which became empty after replacing \"********\" )\n",
    "    # .tolist() funtion adds all the values(after being processed) to the corresponding list\n",
    "    breakfast_list = df[col].iloc[2:11].replace(\"********\", None).dropna().tolist()\n",
    "\n",
    "    lunch_list = df[col].iloc[13:21].replace(\"********\", None).dropna().tolist()\n",
    " \n",
    "    dinner_list = df[col].iloc[23:30].replace(\"********\", None).dropna().tolist()\n",
    "   \n",
    "    # This maps the values of every list for that key(date) with their corresponsing content stored above as lists\n",
    "    menu_json[date][\"BREAKFAST\"] = breakfast_list\n",
    "    menu_json[date][\"LUNCH\"] = lunch_list\n",
    "    menu_json[date][\"DINNER\"] = dinner_list\n",
    "   "
   ]
  },
  {
   "cell_type": "code",
   "execution_count": 108,
   "metadata": {},
   "outputs": [],
   "source": [
    "import json\n",
    "\n",
    "# importing datetime module to tackle date formatting for keys in dictionary\n",
    "from datetime import datetime\n",
    "\n",
    "# since the dictionry keys take in only string values, we must format the date key into string as it is stored in datetime format\n",
    "# so the lines below converts the  dictionary keys to a string format (if they are datetime objects)\n",
    "# loops through menu_json.items() which gives key value pairs\n",
    "# then isinstance(object,class) checks if a particular obj belongs to a particular class, here the key is checked of being of the datetime class or not\n",
    "# if it is, then it is converted to string using the strftime() method of the datetime class, it is a special method available for datetime objs which converts them to a specified format of string\n",
    "# if it is not, the key value remains the same\n",
    "# the updated key is stored into the new dictionary\n",
    "menu_json_str_keys = {}\n",
    "for key, value in menu_json.items():\n",
    "    new_key = key.strftime(\"%Y-%m-%d\") if isinstance(key, datetime) else key\n",
    "    menu_json_str_keys[new_key] = value\n",
    "\n",
    "# json.dumps() serializes(process of convertng python oj to a string format) the Python dictionary into a JSON string.\n",
    "# indent=4 ensures the file is formatted with 4 spaces for readability\n",
    "json_data = json.dumps(menu_json_str_keys, indent=4)\n",
    "\n",
    "output_file = \"mess_menu.json\"\n",
    "\n",
    "# open() function opens a file, if the file does not exist, it will be created\n",
    "# 'w' represents write mode, the mode in which the file opens (such that it can be written into)\n",
    "# f.write() writes the content of json_data into the file declared above as \"output_file\" with name mess_menu.json\n",
    "with open(output_file, \"w\") as f:\n",
    "    f.write(json_data)"
   ]
  }
 ],
 "metadata": {
  "kernelspec": {
   "display_name": "venv",
   "language": "python",
   "name": "python3"
  },
  "language_info": {
   "codemirror_mode": {
    "name": "ipython",
    "version": 3
   },
   "file_extension": ".py",
   "mimetype": "text/x-python",
   "name": "python",
   "nbconvert_exporter": "python",
   "pygments_lexer": "ipython3",
   "version": "3.10.12"
  }
 },
 "nbformat": 4,
 "nbformat_minor": 2
}
